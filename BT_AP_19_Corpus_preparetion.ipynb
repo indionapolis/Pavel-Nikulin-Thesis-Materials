{
  "nbformat": 4,
  "nbformat_minor": 0,
  "metadata": {
    "colab": {
      "name": "BT-AP-19 Corpus preparetion.ipynb",
      "provenance": []
    },
    "kernelspec": {
      "name": "python3",
      "display_name": "Python 3"
    },
    "widgets": {
      "application/vnd.jupyter.widget-state+json": {
        "075b7e4b4fd04ad0867d55cb09b30155": {
          "model_module": "@jupyter-widgets/controls",
          "model_name": "HBoxModel",
          "state": {
            "_view_name": "HBoxView",
            "_dom_classes": [],
            "_model_name": "HBoxModel",
            "_view_module": "@jupyter-widgets/controls",
            "_model_module_version": "1.5.0",
            "_view_count": null,
            "_view_module_version": "1.5.0",
            "box_style": "",
            "layout": "IPY_MODEL_84d3ce9c72a741cb995b73af3eabc21a",
            "_model_module": "@jupyter-widgets/controls",
            "children": [
              "IPY_MODEL_1b59d0330a5d4c19bc7a228ab1dcba60",
              "IPY_MODEL_9fe53c306472478ab5be34997b59a3b5"
            ]
          }
        },
        "84d3ce9c72a741cb995b73af3eabc21a": {
          "model_module": "@jupyter-widgets/base",
          "model_name": "LayoutModel",
          "state": {
            "_view_name": "LayoutView",
            "grid_template_rows": null,
            "right": null,
            "justify_content": null,
            "_view_module": "@jupyter-widgets/base",
            "overflow": null,
            "_model_module_version": "1.2.0",
            "_view_count": null,
            "flex_flow": null,
            "width": null,
            "min_width": null,
            "border": null,
            "align_items": null,
            "bottom": null,
            "_model_module": "@jupyter-widgets/base",
            "top": null,
            "grid_column": null,
            "overflow_y": null,
            "overflow_x": null,
            "grid_auto_flow": null,
            "grid_area": null,
            "grid_template_columns": null,
            "flex": null,
            "_model_name": "LayoutModel",
            "justify_items": null,
            "grid_row": null,
            "max_height": null,
            "align_content": null,
            "visibility": null,
            "align_self": null,
            "height": null,
            "min_height": null,
            "padding": null,
            "grid_auto_rows": null,
            "grid_gap": null,
            "max_width": null,
            "order": null,
            "_view_module_version": "1.2.0",
            "grid_template_areas": null,
            "object_position": null,
            "object_fit": null,
            "grid_auto_columns": null,
            "margin": null,
            "display": null,
            "left": null
          }
        },
        "1b59d0330a5d4c19bc7a228ab1dcba60": {
          "model_module": "@jupyter-widgets/controls",
          "model_name": "FloatProgressModel",
          "state": {
            "_view_name": "ProgressView",
            "style": "IPY_MODEL_72f6e29afc80418a9e02cfbc19795c1c",
            "_dom_classes": [],
            "description": "",
            "_model_name": "FloatProgressModel",
            "bar_style": "success",
            "max": 1,
            "_view_module": "@jupyter-widgets/controls",
            "_model_module_version": "1.5.0",
            "value": 1,
            "_view_count": null,
            "_view_module_version": "1.5.0",
            "orientation": "horizontal",
            "min": 0,
            "description_tooltip": null,
            "_model_module": "@jupyter-widgets/controls",
            "layout": "IPY_MODEL_82ed7cc4242e4f95b96c81f0dc5c5376"
          }
        },
        "9fe53c306472478ab5be34997b59a3b5": {
          "model_module": "@jupyter-widgets/controls",
          "model_name": "HTMLModel",
          "state": {
            "_view_name": "HTMLView",
            "style": "IPY_MODEL_72bb367c4d644042bd2a30d76bff5847",
            "_dom_classes": [],
            "description": "",
            "_model_name": "HTMLModel",
            "placeholder": "​",
            "_view_module": "@jupyter-widgets/controls",
            "_model_module_version": "1.5.0",
            "value": " 339/? [00:00&lt;00:00, 550.32it/s]",
            "_view_count": null,
            "_view_module_version": "1.5.0",
            "description_tooltip": null,
            "_model_module": "@jupyter-widgets/controls",
            "layout": "IPY_MODEL_f70b572224204809b3bcf0295c1ca8a1"
          }
        },
        "72f6e29afc80418a9e02cfbc19795c1c": {
          "model_module": "@jupyter-widgets/controls",
          "model_name": "ProgressStyleModel",
          "state": {
            "_view_name": "StyleView",
            "_model_name": "ProgressStyleModel",
            "description_width": "initial",
            "_view_module": "@jupyter-widgets/base",
            "_model_module_version": "1.5.0",
            "_view_count": null,
            "_view_module_version": "1.2.0",
            "bar_color": null,
            "_model_module": "@jupyter-widgets/controls"
          }
        },
        "82ed7cc4242e4f95b96c81f0dc5c5376": {
          "model_module": "@jupyter-widgets/base",
          "model_name": "LayoutModel",
          "state": {
            "_view_name": "LayoutView",
            "grid_template_rows": null,
            "right": null,
            "justify_content": null,
            "_view_module": "@jupyter-widgets/base",
            "overflow": null,
            "_model_module_version": "1.2.0",
            "_view_count": null,
            "flex_flow": null,
            "width": null,
            "min_width": null,
            "border": null,
            "align_items": null,
            "bottom": null,
            "_model_module": "@jupyter-widgets/base",
            "top": null,
            "grid_column": null,
            "overflow_y": null,
            "overflow_x": null,
            "grid_auto_flow": null,
            "grid_area": null,
            "grid_template_columns": null,
            "flex": null,
            "_model_name": "LayoutModel",
            "justify_items": null,
            "grid_row": null,
            "max_height": null,
            "align_content": null,
            "visibility": null,
            "align_self": null,
            "height": null,
            "min_height": null,
            "padding": null,
            "grid_auto_rows": null,
            "grid_gap": null,
            "max_width": null,
            "order": null,
            "_view_module_version": "1.2.0",
            "grid_template_areas": null,
            "object_position": null,
            "object_fit": null,
            "grid_auto_columns": null,
            "margin": null,
            "display": null,
            "left": null
          }
        },
        "72bb367c4d644042bd2a30d76bff5847": {
          "model_module": "@jupyter-widgets/controls",
          "model_name": "DescriptionStyleModel",
          "state": {
            "_view_name": "StyleView",
            "_model_name": "DescriptionStyleModel",
            "description_width": "",
            "_view_module": "@jupyter-widgets/base",
            "_model_module_version": "1.5.0",
            "_view_count": null,
            "_view_module_version": "1.2.0",
            "_model_module": "@jupyter-widgets/controls"
          }
        },
        "f70b572224204809b3bcf0295c1ca8a1": {
          "model_module": "@jupyter-widgets/base",
          "model_name": "LayoutModel",
          "state": {
            "_view_name": "LayoutView",
            "grid_template_rows": null,
            "right": null,
            "justify_content": null,
            "_view_module": "@jupyter-widgets/base",
            "overflow": null,
            "_model_module_version": "1.2.0",
            "_view_count": null,
            "flex_flow": null,
            "width": null,
            "min_width": null,
            "border": null,
            "align_items": null,
            "bottom": null,
            "_model_module": "@jupyter-widgets/base",
            "top": null,
            "grid_column": null,
            "overflow_y": null,
            "overflow_x": null,
            "grid_auto_flow": null,
            "grid_area": null,
            "grid_template_columns": null,
            "flex": null,
            "_model_name": "LayoutModel",
            "justify_items": null,
            "grid_row": null,
            "max_height": null,
            "align_content": null,
            "visibility": null,
            "align_self": null,
            "height": null,
            "min_height": null,
            "padding": null,
            "grid_auto_rows": null,
            "grid_gap": null,
            "max_width": null,
            "order": null,
            "_view_module_version": "1.2.0",
            "grid_template_areas": null,
            "object_position": null,
            "object_fit": null,
            "grid_auto_columns": null,
            "margin": null,
            "display": null,
            "left": null
          }
        }
      }
    }
  },
  "cells": [
    {
      "cell_type": "code",
      "metadata": {
        "id": "CkFl2_GoQMK-"
      },
      "source": [
        "!unzip /content/BT-AP-19\\ Corpus.zip"
      ],
      "execution_count": null,
      "outputs": []
    },
    {
      "cell_type": "code",
      "metadata": {
        "id": "GKfR8kkdPVp-"
      },
      "source": [
        "import pandas as pd"
      ],
      "execution_count": null,
      "outputs": []
    },
    {
      "cell_type": "code",
      "metadata": {
        "id": "UBo6YzU5QCJl"
      },
      "source": [
        "df = pd.read_excel(\"/content/BT-AP-19 Corpus/TruthFile(Labels).xlsx\", sheet_name='Sheet2')"
      ],
      "execution_count": null,
      "outputs": []
    },
    {
      "cell_type": "code",
      "metadata": {
        "colab": {
          "base_uri": "https://localhost:8080/",
          "height": 204
        },
        "id": "vcGdSmAoSMBS",
        "outputId": "56d91a9f-6e24-46d3-9779-b4cf978c514e"
      },
      "source": [
        "df_eng = df\n",
        "df_eng.head()"
      ],
      "execution_count": null,
      "outputs": [
        {
          "output_type": "execute_result",
          "data": {
            "text/html": [
              "<div>\n",
              "<style scoped>\n",
              "    .dataframe tbody tr th:only-of-type {\n",
              "        vertical-align: middle;\n",
              "    }\n",
              "\n",
              "    .dataframe tbody tr th {\n",
              "        vertical-align: top;\n",
              "    }\n",
              "\n",
              "    .dataframe thead th {\n",
              "        text-align: right;\n",
              "    }\n",
              "</style>\n",
              "<table border=\"1\" class=\"dataframe\">\n",
              "  <thead>\n",
              "    <tr style=\"text-align: right;\">\n",
              "      <th></th>\n",
              "      <th>Filename</th>\n",
              "      <th>Gender</th>\n",
              "      <th>Age</th>\n",
              "      <th>Qualification</th>\n",
              "      <th>Province</th>\n",
              "      <th>Language</th>\n",
              "      <th>Political Party</th>\n",
              "    </tr>\n",
              "  </thead>\n",
              "  <tbody>\n",
              "    <tr>\n",
              "      <th>0</th>\n",
              "      <td>4</td>\n",
              "      <td>Male</td>\n",
              "      <td>25-34</td>\n",
              "      <td>17-21</td>\n",
              "      <td>Punjab</td>\n",
              "      <td>other</td>\n",
              "      <td>OTHER</td>\n",
              "    </tr>\n",
              "    <tr>\n",
              "      <th>1</th>\n",
              "      <td>7</td>\n",
              "      <td>Female</td>\n",
              "      <td>18-24</td>\n",
              "      <td>10-16</td>\n",
              "      <td>Punjab</td>\n",
              "      <td>Urdu</td>\n",
              "      <td>PML (N)</td>\n",
              "    </tr>\n",
              "    <tr>\n",
              "      <th>2</th>\n",
              "      <td>8</td>\n",
              "      <td>Male</td>\n",
              "      <td>18-24</td>\n",
              "      <td>10-16</td>\n",
              "      <td>Punjab</td>\n",
              "      <td>English</td>\n",
              "      <td>OTHER</td>\n",
              "    </tr>\n",
              "    <tr>\n",
              "      <th>3</th>\n",
              "      <td>9</td>\n",
              "      <td>Male</td>\n",
              "      <td>35-49</td>\n",
              "      <td>10-16</td>\n",
              "      <td>Punjab</td>\n",
              "      <td>Punjabi</td>\n",
              "      <td>PML (N)</td>\n",
              "    </tr>\n",
              "    <tr>\n",
              "      <th>4</th>\n",
              "      <td>10</td>\n",
              "      <td>Male</td>\n",
              "      <td>18-24</td>\n",
              "      <td>10-16</td>\n",
              "      <td>Punjab</td>\n",
              "      <td>Punjabi</td>\n",
              "      <td>PTI</td>\n",
              "    </tr>\n",
              "  </tbody>\n",
              "</table>\n",
              "</div>"
            ],
            "text/plain": [
              "   Filename  Gender    Age Qualification Province Language Political Party \n",
              "0         4    Male  25-34         17-21   Punjab    other            OTHER\n",
              "1         7  Female  18-24         10-16   Punjab     Urdu          PML (N)\n",
              "2         8    Male  18-24         10-16   Punjab  English            OTHER\n",
              "3         9    Male  35-49         10-16   Punjab  Punjabi          PML (N)\n",
              "4        10    Male  18-24         10-16   Punjab  Punjabi              PTI"
            ]
          },
          "metadata": {
            "tags": []
          },
          "execution_count": 8
        }
      ]
    },
    {
      "cell_type": "code",
      "metadata": {
        "colab": {
          "base_uri": "https://localhost:8080/",
          "height": 282
        },
        "id": "CzZRo7AqQeX0",
        "outputId": "0d10b6aa-5367-4eb0-dda4-87b977d7909a"
      },
      "source": [
        "df_eng['Age'].hist()"
      ],
      "execution_count": null,
      "outputs": [
        {
          "output_type": "execute_result",
          "data": {
            "text/plain": [
              "<matplotlib.axes._subplots.AxesSubplot at 0x7f0cce476310>"
            ]
          },
          "metadata": {
            "tags": []
          },
          "execution_count": 9
        },
        {
          "output_type": "display_data",
          "data": {
            "image/png": "[encoded data removed]",
            "text/plain": [
              "<Figure size 432x288 with 1 Axes>"
            ]
          },
          "metadata": {
            "tags": [],
            "needs_background": "light"
          }
        }
      ]
    },
    {
      "cell_type": "code",
      "metadata": {
        "colab": {
          "base_uri": "https://localhost:8080/",
          "height": 282
        },
        "id": "-kPnhqsJRnq6",
        "outputId": "11889fe7-ab5a-442a-e3bd-cdca33dfe3d3"
      },
      "source": [
        "df_eng['Gender'].hist()"
      ],
      "execution_count": null,
      "outputs": [
        {
          "output_type": "execute_result",
          "data": {
            "text/plain": [
              "<matplotlib.axes._subplots.AxesSubplot at 0x7f0cce64f390>"
            ]
          },
          "metadata": {
            "tags": []
          },
          "execution_count": 10
        },
        {
          "output_type": "display_data",
          "data": {
            "image/png": "[encoded data removed]",
            "text/plain": [
              "<Figure size 432x288 with 1 Axes>"
            ]
          },
          "metadata": {
            "tags": [],
            "needs_background": "light"
          }
        }
      ]
    },
    {
      "cell_type": "code",
      "metadata": {
        "colab": {
          "base_uri": "https://localhost:8080/",
          "height": 154,
          "referenced_widgets": [
            "075b7e4b4fd04ad0867d55cb09b30155",
            "84d3ce9c72a741cb995b73af3eabc21a",
            "1b59d0330a5d4c19bc7a228ab1dcba60",
            "9fe53c306472478ab5be34997b59a3b5",
            "72f6e29afc80418a9e02cfbc19795c1c",
            "82ed7cc4242e4f95b96c81f0dc5c5376",
            "72bb367c4d644042bd2a30d76bff5847",
            "f70b572224204809b3bcf0295c1ca8a1"
          ]
        },
        "id": "rRzU6-wuQw0M",
        "outputId": "16351cb2-04c1-4ebb-df32-8bfc16f4831d"
      },
      "source": [
        "from tqdm import tqdm_notebook\n",
        "import os.path\n",
        "\n",
        "result = []\n",
        "for i, row in tqdm_notebook(df_eng.iterrows()):\n",
        "    if not os.path.isfile(f\"/content/BT-AP-19 Corpus/Tweets/{row['Filename']:03}.txt\"):\n",
        "        continue\n",
        "    with open(f\"/content/BT-AP-19 Corpus/Tweets/{row['Filename']:03}.txt\", 'r') as f:\n",
        "        tweets = f.read().split('\\n')\n",
        "        for tweet in tweets:\n",
        "            data = {\"post\": tweet, \"age\": row['Age'][:2], \"gender\": row['Gender'].lower()}\n",
        "            result.append(data)\n",
        "\n",
        "\n",
        "len(result)"
      ],
      "execution_count": null,
      "outputs": [
        {
          "output_type": "stream",
          "text": [
            "/usr/local/lib/python3.7/dist-packages/ipykernel_launcher.py:5: TqdmDeprecationWarning: This function will be removed in tqdm==5.0.0\n",
            "Please use `tqdm.notebook.tqdm` instead of `tqdm.tqdm_notebook`\n",
            "  \"\"\"\n"
          ],
          "name": "stderr"
        },
        {
          "output_type": "display_data",
          "data": {
            "application/vnd.jupyter.widget-view+json": {
              "model_id": "075b7e4b4fd04ad0867d55cb09b30155",
              "version_minor": 0,
              "version_major": 2
            },
            "text/plain": [
              "HBox(children=(FloatProgress(value=1.0, bar_style='info', max=1.0), HTML(value='')))"
            ]
          },
          "metadata": {
            "tags": []
          }
        },
        {
          "output_type": "stream",
          "text": [
            "\n"
          ],
          "name": "stdout"
        },
        {
          "output_type": "execute_result",
          "data": {
            "text/plain": [
              "42047"
            ]
          },
          "metadata": {
            "tags": []
          },
          "execution_count": 12
        }
      ]
    },
    {
      "cell_type": "code",
      "metadata": {
        "id": "kdMllUEYSdle"
      },
      "source": [
        "import random\n",
        "random.shuffle(result)"
      ],
      "execution_count": null,
      "outputs": []
    },
    {
      "cell_type": "code",
      "metadata": {
        "colab": {
          "base_uri": "https://localhost:8080/"
        },
        "id": "BgJHEhYhTzPw",
        "outputId": "b4376494-92ec-46c5-c2d3-178eff1c3eee"
      },
      "source": [
        "result[:10]"
      ],
      "execution_count": null,
      "outputs": [
        {
          "output_type": "execute_result",
          "data": {
            "text/plain": [
              "[{'age': '50',\n",
              "  'gender': 'female',\n",
              "  'post': 'Umar Murtaza: Head of SM Operation'},\n",
              " {'age': '35',\n",
              "  'gender': 'female',\n",
              "  'post': 'Aik Din Nawaz Sharif ke Saath by  username http://t.co/sRLnVdlaoD'},\n",
              " {'age': '18', 'gender': 'male', 'post': ' Pakchinafriendship '},\n",
              " {'age': '35',\n",
              "  'gender': 'female',\n",
              "  'post': '😂😂😂😂  TooFunny  Karachi https://t.co/gBjCYjEGxe'},\n",
              " {'age': '35',\n",
              "  'gender': 'female',\n",
              "  'post': 'Wishing him a speedy recovery, hope he wil b back to his usual self again soon  RahseedGodil opened his eyes and said \"Thank God,I am alive\"'},\n",
              " {'age': '25',\n",
              "  'gender': 'female',\n",
              "  'post': \"Been doing interviews for over a decade- wouldn't have been able to handle myself with the intellectual finesse & patience! username  CNN\"},\n",
              " {'age': '18',\n",
              "  'gender': 'male',\n",
              "  'post': 'great war madrid vs manu/\\\\ m excited te see,,,:)'},\n",
              " {'age': '25',\n",
              "  'gender': 'female',\n",
              "  'post': 'username username_Urdu username well I ll read that :-)'},\n",
              " {'age': '18',\n",
              "  'gender': 'male',\n",
              "  'post': 'اپنے دوست کے بارے میں بریکنگ نیوز جانیں اس رپورٹ میں۔ یہاں کلک کریں۔ http://t.co/WYrIcRzLPr'},\n",
              " {'age': '25', 'gender': 'female', 'post': 'username thnx'}]"
            ]
          },
          "metadata": {
            "tags": []
          },
          "execution_count": 14
        }
      ]
    },
    {
      "cell_type": "code",
      "metadata": {
        "colab": {
          "base_uri": "https://localhost:8080/"
        },
        "id": "fRcI_wPUUfX4",
        "outputId": "d2901b5c-2ad4-4d0a-d4f7-d9f18cb383f1"
      },
      "source": [
        "train, test = result[:int(len(result)*0.8)], result[int(len(result)*0.8):]\n",
        "len(train), len(test)"
      ],
      "execution_count": null,
      "outputs": [
        {
          "output_type": "execute_result",
          "data": {
            "text/plain": [
              "(33637, 8410)"
            ]
          },
          "metadata": {
            "tags": []
          },
          "execution_count": 15
        }
      ]
    },
    {
      "cell_type": "code",
      "metadata": {
        "id": "aJQkv4uMW6j1"
      },
      "source": [
        "import json\n",
        "\n",
        "with open('train.json', 'w', encoding='utf-8') as f:\n",
        "    json.dump(train, f, ensure_ascii=False)\n",
        "\n",
        "with open('test.json', 'w', encoding='utf-8') as f:\n",
        "    json.dump(test, f, ensure_ascii=False)"
      ],
      "execution_count": null,
      "outputs": []
    }
  ]
}