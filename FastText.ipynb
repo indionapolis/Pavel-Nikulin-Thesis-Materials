{
  "nbformat": 4,
  "nbformat_minor": 0,
  "metadata": {
    "colab": {
      "name": "FastText.ipynb",
      "provenance": []
    },
    "kernelspec": {
      "name": "python3",
      "display_name": "Python 3"
    },
    "accelerator": "GPU"
  },
  "cells": [
    {
      "cell_type": "code",
      "metadata": {
        "colab": {
          "base_uri": "https://localhost:8080/"
        },
        "id": "jR6wyh7EauR9",
        "outputId": "d128a692-0f92-41da-f2be-990c11f74da5"
      },
      "source": [
        "!wget https://github.com/facebookresearch/fastText/archive/v0.9.2.zip\n",
        "!unzip v0.9.2.zip\n",
        "!cd fastText-0.9.2 && make && pip install ."
      ],
      "execution_count": null,
      "outputs": [
        {
          "output_type": "stream",
          "text": [
            "  Building wheel for fasttext (setup.py) ... \u001b[?25l\u001b[?25hdone\n",
            "  Created wheel for fasttext: filename=fasttext-0.9.2-cp37-cp37m-linux_x86_64.whl size=3095192 sha256=30d9b34384c392c9cdd554dda5ffb0aa17c8c15e939e82c06f9cf4d683aaf189\n",
            "  Stored in directory: /root/.cache/pip/wheels/1a/f3/f7/6e23c787ef7a44142867cdb80e5718cbbeb69e379e8e60e380\n",
            "Successfully built fasttext\n",
            "Installing collected packages: fasttext\n",
            "Successfully installed fasttext-0.9.2\n"
          ],
          "name": "stdout"
        }
      ]
    },
    {
      "cell_type": "code",
      "metadata": {
        "colab": {
          "base_uri": "https://localhost:8080/"
        },
        "id": "Foh6wGzFd9AC",
        "outputId": "5e4aafb9-ddca-4cd7-9f65-27ffcf7eaf84"
      },
      "source": [
        "from google.colab import drive\n",
        "drive.mount('/content/drive')"
      ],
      "execution_count": null,
      "outputs": [
        {
          "output_type": "stream",
          "text": [
            "Mounted at /content/drive\n"
          ],
          "name": "stdout"
        }
      ]
    },
    {
      "cell_type": "code",
      "metadata": {
        "colab": {
          "base_uri": "https://localhost:8080/"
        },
        "id": "mgCyxc-ueDJW",
        "outputId": "dbd68b87-9b34-48bf-a2ac-f9ff07af18fd"
      },
      "source": [
        "import json\n",
        "blog_posts_data_dir = \"/content/drive/MyDrive/datasets/BT-AP-19 Corpus/all/\"\n",
        "# blog_posts_data_dir = \"/content/drive/MyDrive/datasets/\"\n",
        "train_file_name = \"train.json\"\n",
        "test_file_name = \"test.json\"\n",
        "\n",
        "# Load data\n",
        "with open(blog_posts_data_dir + train_file_name) as r:\n",
        "    training_set = json.load(r)\n",
        "# training_set = training_set[:200000]\n",
        "training_set[0]"
      ],
      "execution_count": null,
      "outputs": [
        {
          "output_type": "execute_result",
          "data": {
            "text/plain": [
              "{'age': '50', 'gender': 'female', 'post': 'Umar Murtaza: Head of SM Operation'}"
            ]
          },
          "metadata": {
            "tags": []
          },
          "execution_count": 3
        }
      ]
    },
    {
      "cell_type": "code",
      "metadata": {
        "id": "Mt1nZ_2QeNjx"
      },
      "source": [
        "def get_age_group_class(age): # HIGH NOTE: changing each of the scalars to a vector. This is probably not a good idea\n",
        "    age = int(age)\n",
        "    if age < 18:\n",
        "        # 13 - 17\n",
        "        return \"10\"\n",
        "    elif age < 28:\n",
        "        # 23 - 27\n",
        "        return \"20\"\n",
        "    elif age < 49:\n",
        "        # 33 - 48\n",
        "        return \"30\"\n",
        "    else:\n",
        "        return \"\""
      ],
      "execution_count": null,
      "outputs": []
    },
    {
      "cell_type": "code",
      "metadata": {
        "id": "FPD0Uvaq4vLa"
      },
      "source": [
        ""
      ],
      "execution_count": null,
      "outputs": []
    },
    {
      "cell_type": "code",
      "metadata": {
        "id": "X1P1FjsaBma2"
      },
      "source": [
        "def get_gender_as_num(gender):\n",
        "    if gender == \"male\":\n",
        "        return 0\n",
        "    else:\n",
        "        return 1"
      ],
      "execution_count": null,
      "outputs": []
    },
    {
      "cell_type": "markdown",
      "metadata": {
        "id": "-L-iqT5Z5Q2g"
      },
      "source": [
        "Gender"
      ]
    },
    {
      "cell_type": "code",
      "metadata": {
        "id": "XVYTXmJMeWDQ"
      },
      "source": [
        "# with open('my-dataset.train', 'w', encoding=\"utf-8\") as f:\n",
        "#     for sample in training_set:\n",
        "#         f.write(f\"__label__{get_gender_as_num(sample['gender'])} , {sample['post'].lower()}\\n\")\n",
        "\n",
        "with open('my-dataset.train', 'w', encoding=\"utf-8\") as f:\n",
        "    for sample in training_set:\n",
        "        f.write(f\"__label__{sample['gender']} , {sample['post'].lower()}\\n\")        "
      ],
      "execution_count": null,
      "outputs": []
    },
    {
      "cell_type": "code",
      "metadata": {
        "colab": {
          "base_uri": "https://localhost:8080/"
        },
        "id": "lH5aX_PunIEL",
        "outputId": "537478b7-0b19-49b5-d04b-ac58c8c8ec47"
      },
      "source": [
        "# Load data\n",
        "with open(blog_posts_data_dir + test_file_name) as r:\n",
        "    test_set = json.load(r)\n",
        "\n",
        "test_set[0]"
      ],
      "execution_count": null,
      "outputs": [
        {
          "output_type": "execute_result",
          "data": {
            "text/plain": [
              "{'age': '35', 'gender': 'female', 'post': 'username Salut !'}"
            ]
          },
          "metadata": {
            "tags": []
          },
          "execution_count": 6
        }
      ]
    },
    {
      "cell_type": "code",
      "metadata": {
        "id": "RCrH8AjrnUxm"
      },
      "source": [
        "# with open('my-dataset.test', 'w', encoding=\"utf-8\") as f:\n",
        "#     for sample in test_set:\n",
        "#         f.write(f\"__label__{get_gender_as_num(sample['gender'])} , {sample['post'].lower()}\\n\")\n",
        "\n",
        "\n",
        "with open('my-dataset.test', 'w', encoding=\"utf-8\") as f:\n",
        "    for sample in test_set:\n",
        "        f.write(f\"__label__{sample['gender']} , {sample['post'].lower()}\\n\")        "
      ],
      "execution_count": null,
      "outputs": []
    },
    {
      "cell_type": "code",
      "metadata": {
        "id": "Yi0IwhhCaiL5"
      },
      "source": [
        "import fasttext"
      ],
      "execution_count": null,
      "outputs": []
    },
    {
      "cell_type": "code",
      "metadata": {
        "id": "KA5XfV3Ratdq"
      },
      "source": [
        "model = fasttext.train_supervised(input=\"my-dataset.train\")"
      ],
      "execution_count": null,
      "outputs": []
    },
    {
      "cell_type": "code",
      "metadata": {
        "colab": {
          "base_uri": "https://localhost:8080/"
        },
        "id": "BoifXoqucoW5",
        "outputId": "0d4b07cd-ece2-4928-9f7d-79d236c2d10c"
      },
      "source": [
        "model.test(\"my-dataset.test\")"
      ],
      "execution_count": null,
      "outputs": [
        {
          "output_type": "execute_result",
          "data": {
            "text/plain": [
              "(8410, 0.7795481569560048, 0.7795481569560048)"
            ]
          },
          "metadata": {
            "tags": []
          },
          "execution_count": 20
        }
      ]
    },
    {
      "cell_type": "code",
      "metadata": {
        "colab": {
          "base_uri": "https://localhost:8080/"
        },
        "id": "b8NgQT1Ic_dv",
        "outputId": "2cadfc4e-b026-4de2-e46b-afee711fc69f"
      },
      "source": [
        "p, r = model.test(\"my-dataset.test\")[1:]\n",
        "f = 2*(p*r)/(p+r)\n",
        "f"
      ],
      "execution_count": null,
      "outputs": [
        {
          "output_type": "execute_result",
          "data": {
            "text/plain": [
              "0.7795481569560048"
            ]
          },
          "metadata": {
            "tags": []
          },
          "execution_count": 21
        }
      ]
    },
    {
      "cell_type": "markdown",
      "metadata": {
        "id": "q1oEtgyI5coE"
      },
      "source": [
        "Age"
      ]
    },
    {
      "cell_type": "code",
      "metadata": {
        "id": "h81r7Ofu5d4E"
      },
      "source": [
        "with open('my-dataset.train', 'w', encoding=\"utf-8\") as f:\n",
        "    for sample in training_set:\n",
        "        f.write(f\"__label__{sample['age']} , {sample['post'].lower()}\\n\") \n",
        "\n",
        "with open('my-dataset.test', 'w', encoding=\"utf-8\") as f:\n",
        "    for sample in test_set:\n",
        "        f.write(f\"__label__{sample['age']} , {sample['post'].lower()}\\n\") "
      ],
      "execution_count": null,
      "outputs": []
    },
    {
      "cell_type": "code",
      "metadata": {
        "id": "LW8xTpuC5HS6"
      },
      "source": [
        "model = fasttext.train_supervised(input=\"my-dataset.train\")"
      ],
      "execution_count": null,
      "outputs": []
    },
    {
      "cell_type": "code",
      "metadata": {
        "colab": {
          "base_uri": "https://localhost:8080/"
        },
        "id": "Y7cXxb4r5u-B",
        "outputId": "2c7dd76c-6c62-401e-ffd0-d4b6df6fba57"
      },
      "source": [
        "p, r = model.test(\"my-dataset.test\")[1:]\n",
        "f = 2*(p*r)/(p+r)\n",
        "f"
      ],
      "execution_count": null,
      "outputs": [
        {
          "output_type": "execute_result",
          "data": {
            "text/plain": [
              "0.5403091557669442"
            ]
          },
          "metadata": {
            "tags": []
          },
          "execution_count": 24
        }
      ]
    }
  ]
}